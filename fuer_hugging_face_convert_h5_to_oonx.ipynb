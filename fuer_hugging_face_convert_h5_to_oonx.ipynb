{
 "cells": [
  {
   "cell_type": "code",
   "execution_count": 3,
   "metadata": {},
   "outputs": [],
   "source": [
    "import tensorflow as tf\n",
    "import tf2onnx\n",
    "import onnx\n",
    "\n",
    "# Laden des h5-Modells\n",
    "h5_model = tf.keras.models.load_model('C:/Users/janin/Documents/ZHAW_semester4/KI-Anwendungen/Notfall/KI-Anwendungen-n-to-n-backend-main/model1.h5')\n",
    "\n",
    "# Konvertierung in das ONNX-Format\n",
    "onnx_model, _ = tf2onnx.convert.from_keras(h5_model)\n",
    "\n",
    "# Speichern des ONNX-Modells\n",
    "onnx.save_model(onnx_model, 'C:/Users/janin/Documents/ZHAW_semester4/KI-Anwendungen/Notfall/KI-Anwendungen-n-to-n-backend-main/model.onnx')\n"
   ]
  }
 ],
 "metadata": {
  "kernelspec": {
   "display_name": "test",
   "language": "python",
   "name": "python3"
  },
  "language_info": {
   "codemirror_mode": {
    "name": "ipython",
    "version": 3
   },
   "file_extension": ".py",
   "mimetype": "text/x-python",
   "name": "python",
   "nbconvert_exporter": "python",
   "pygments_lexer": "ipython3",
   "version": "3.9.16"
  },
  "orig_nbformat": 4
 },
 "nbformat": 4,
 "nbformat_minor": 2
}
