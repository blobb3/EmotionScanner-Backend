{
 "cells": [
  {
   "cell_type": "code",
   "execution_count": 4,
   "metadata": {},
   "outputs": [
    {
     "name": "stdout",
     "output_type": "stream",
     "text": [
      "WARNING:tensorflow:Compiled the loaded model, but the compiled metrics have yet to be built. `model.compile_metrics` will be empty until you train or evaluate the model.\n"
     ]
    },
    {
     "name": "stderr",
     "output_type": "stream",
     "text": [
      "WARNING:tensorflow:Compiled the loaded model, but the compiled metrics have yet to be built. `model.compile_metrics` will be empty until you train or evaluate the model.\n",
      "WARNING:absl:Found untraced functions such as _jit_compiled_convolution_op, _jit_compiled_convolution_op while saving (showing 2 of 2). These functions will not be directly callable after loading.\n"
     ]
    },
    {
     "name": "stdout",
     "output_type": "stream",
     "text": [
      "INFO:tensorflow:Assets written to: C:/Users/janin/Documents/ZHAW_semester4/KI-Anwendungen/Notfall/KI-Anwendungen-n-to-n-backend-main\\assets\n"
     ]
    },
    {
     "name": "stderr",
     "output_type": "stream",
     "text": [
      "INFO:tensorflow:Assets written to: C:/Users/janin/Documents/ZHAW_semester4/KI-Anwendungen/Notfall/KI-Anwendungen-n-to-n-backend-main\\assets\n"
     ]
    }
   ],
   "source": [
    "import tensorflow as tf\n",
    "\n",
    "# Laden des h5-Modells\n",
    "h5_model = tf.keras.models.load_model('C:/Users/janin/Documents/ZHAW_semester4/KI-Anwendungen/Notfall/KI-Anwendungen-n-to-n-backend-main/model1.h5')\n",
    "\n",
    "# Konvertierung in das TensorFlow-Format\n",
    "tf_model = tf.keras.models.clone_model(h5_model)\n",
    "tf_model.set_weights(h5_model.get_weights())\n",
    "\n",
    "# Speichern des TensorFlow-Modells\n",
    "tf_model.save('C:/Users/janin/Documents/ZHAW_semester4/KI-Anwendungen/Notfall/KI-Anwendungen-n-to-n-backend-main')\n"
   ]
  }
 ],
 "metadata": {
  "kernelspec": {
   "display_name": "test",
   "language": "python",
   "name": "python3"
  },
  "language_info": {
   "codemirror_mode": {
    "name": "ipython",
    "version": 3
   },
   "file_extension": ".py",
   "mimetype": "text/x-python",
   "name": "python",
   "nbconvert_exporter": "python",
   "pygments_lexer": "ipython3",
   "version": "3.9.16"
  },
  "orig_nbformat": 4
 },
 "nbformat": 4,
 "nbformat_minor": 2
}
